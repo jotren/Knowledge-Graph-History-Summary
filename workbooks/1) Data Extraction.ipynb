{
 "cells": [
  {
   "cell_type": "markdown",
   "id": "c2160b48-49e8-4fff-80c7-17cf0707d4c2",
   "metadata": {},
   "source": [
    "# Data Extraction\n",
    "\n",
    "In the end, I used a raw .txt file of \"Origins of the Worls\" but H.G. Wells to train my knowledge graph. I originally wanted to use the ArXiv dataset because it had lots of scientific language. However, I could not deploy scipy in Python 3.12 (to be sorted later), so I decided to go for a history corpus rather than scientifif.\n",
    "\n",
    "In any case I used Ray to extract this data from a json and process it into a text file. Thought this code was worth keeping. Additionally I created code to unzip a 7-zip file."
   ]
  },
  {
   "cell_type": "markdown",
   "id": "30c5fe7d-e407-4dd7-bfa4-824f08cdf89a",
   "metadata": {},
   "source": [
    "### Ray & ArXiv Dataset"
   ]
  },
  {
   "cell_type": "code",
   "execution_count": 1,
   "id": "d545d43d-2c01-4fcf-87f7-2dfb43ddb0d2",
   "metadata": {},
   "outputs": [
    {
     "name": "stderr",
     "output_type": "stream",
     "text": [
      "2024-09-24 13:17:29,977\tINFO util.py:154 -- Missing packages: ['ipywidgets']. Run `pip install -U ipywidgets`, then restart the notebook server for rich notebook output.\n",
      "2024-09-24 13:17:37,591\tINFO worker.py:1786 -- Started a local Ray instance.\n"
     ]
    }
   ],
   "source": [
    "import ray\n",
    "import pandas as pd\n",
    "\n",
    "# Initialize Ray\n",
    "ray.init()\n",
    "\n",
    "# Load the JSON file using pandas (Ray can distribute pandas DataFrames)\n",
    "df = pd.read_json('../data/raw/arxiv-metadata-oai-snapshot.json', lines=True)\n",
    "\n",
    "# Select the relevant columns: title, authors, and abstract\n",
    "selected_df = df[['title', 'authors', 'abstract']]\n"
   ]
  },
  {
   "cell_type": "code",
   "execution_count": 4,
   "id": "14072fa3-0046-441f-9a39-eb764e372c5a",
   "metadata": {},
   "outputs": [],
   "source": [
    "\n",
    "# Define a function to process each batch of data\n",
    "@ray.remote\n",
    "def process_batch(batch):\n",
    "    # Combine title, authors, and abstract into unstructured text\n",
    "    combined_text = batch.apply(lambda row: f\"Title: {row['title']}\\nAuthors: {row['authors']}\\nAbstract: {row['abstract']}\\n\\n\", axis=1)\n",
    "    return combined_text.tolist()  # Return as a list\n",
    "\n",
    "# Split the data into smaller batches (adjust the batch size as needed)\n",
    "batch_size = 1000\n",
    "batches = [selected_df[i:i+batch_size] for i in range(0, selected_df.shape[0], batch_size)]\n",
    "\n",
    "# Use Ray to process each batch in parallel\n",
    "results = ray.get([process_batch.remote(batch) for batch in batches])\n",
    "\n"
   ]
  },
  {
   "cell_type": "code",
   "execution_count": 5,
   "id": "0f09c0b7-5905-4a4b-8b3d-6f6918781e92",
   "metadata": {},
   "outputs": [
    {
     "name": "stdout",
     "output_type": "stream",
     "text": [
      "Combined text has been saved to 'arxiv_combined_text.txt'\n"
     ]
    }
   ],
   "source": [
    "\n",
    "# Combine the results into a single list of text entries\n",
    "combined_results = [item for sublist in results if isinstance(sublist, list) for item in sublist]\n",
    "\n",
    "# Write the combined text to a file\n",
    "with open('../data/processed/arxiv_combined_text.txt', 'w', encoding='utf-8') as f:\n",
    "    for entry in combined_results:\n",
    "        f.write(entry)\n",
    "\n",
    "print(\"Combined text has been saved to 'arxiv_combined_text.txt'\")"
   ]
  },
  {
   "cell_type": "markdown",
   "id": "7a92dcd3-5404-4f32-8f77-95a06a74e073",
   "metadata": {},
   "source": [
    "### Unzip 7zip file"
   ]
  },
  {
   "cell_type": "code",
   "execution_count": 4,
   "id": "12da4b5a-736b-43a9-a2a8-2d45d3962d22",
   "metadata": {},
   "outputs": [],
   "source": [
    "import py7zr\n",
    "import os\n",
    "\n",
    "def extract_7z_to_txt(archive_path, output_txt_path):\n",
    "    # Create a directory to extract files\n",
    "    extraction_dir = 'extracted_files'\n",
    "    os.makedirs(extraction_dir, exist_ok=True)\n",
    "\n",
    "    with py7zr.SevenZipFile(archive_path, mode='r') as archive:\n",
    "        archive.extractall(path=extraction_dir)  # Extract to a temporary directory\n",
    "\n",
    "    # Write the contents of all extracted files into a single text file\n",
    "    with open(output_txt_path, 'w', encoding='utf-8') as outfile:\n",
    "        for root, _, files in os.walk(extraction_dir):\n",
    "            for filename in files:\n",
    "                file_path = os.path.join(root, filename)\n",
    "                try:\n",
    "                    with open(file_path, 'r', encoding='utf-8') as infile:\n",
    "                        outfile.write(infile.read() + '\\n')\n",
    "                except UnicodeDecodeError:\n",
    "                    # If UTF-8 fails, try reading in binary mode and decode as 'ISO-8859-1' or handle as needed\n",
    "                    with open(file_path, 'rb') as infile:\n",
    "                        outfile.write(infile.read().decode('ISO-8859-1', errors='ignore') + '\\n')\n",
    "\n",
    "# Usage\n",
    "extract_7z_to_txt('../data/raw/wikipedia-aa-html.7z', 'output.txt')\n"
   ]
  },
  {
   "cell_type": "code",
   "execution_count": null,
   "id": "69fcf49c-a7a1-48d5-9912-f451c016de40",
   "metadata": {},
   "outputs": [],
   "source": []
  }
 ],
 "metadata": {
  "kernelspec": {
   "display_name": "know_graph",
   "language": "python",
   "name": "myenv"
  },
  "language_info": {
   "codemirror_mode": {
    "name": "ipython",
    "version": 3
   },
   "file_extension": ".py",
   "mimetype": "text/x-python",
   "name": "python",
   "nbconvert_exporter": "python",
   "pygments_lexer": "ipython3",
   "version": "3.12.4"
  }
 },
 "nbformat": 4,
 "nbformat_minor": 5
}
