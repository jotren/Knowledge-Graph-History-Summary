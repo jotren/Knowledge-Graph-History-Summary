{
 "cells": [
  {
   "cell_type": "markdown",
   "id": "c131506d-63ba-4caa-bdaa-b0764e2d992e",
   "metadata": {},
   "source": [
    "# Query Results\n",
    "\n",
    "Once the graph has been created we would want to see a visual and table represenation of the results. \n",
    "\n"
   ]
  },
  {
   "cell_type": "markdown",
   "id": "6390f84a-a39f-4024-bc44-e2171fb430c2",
   "metadata": {},
   "source": [
    "### Visual Representation"
   ]
  },
  {
   "cell_type": "code",
   "execution_count": 37,
   "id": "3a8ab882-d9d1-4bb3-b845-7e636673b5b4",
   "metadata": {},
   "outputs": [],
   "source": [
    "import networkx as nx\n",
    "# Load the graph from the GML file\n",
    "graph = nx.read_gml(\"../data/result/knowledge_graph_limit=3000000.gml\")\n",
    "    "
   ]
  },
  {
   "cell_type": "code",
   "execution_count": 80,
   "id": "689da813-f675-407b-b96a-19ddeebdd3fd",
   "metadata": {},
   "outputs": [],
   "source": [
    "query = \"Churchill\""
   ]
  },
  {
   "cell_type": "code",
   "execution_count": 81,
   "id": "2ea63dd2-4eb5-48f3-9561-d1897d50ba55",
   "metadata": {
    "scrolled": true
   },
   "outputs": [
    {
     "name": "stdout",
     "output_type": "stream",
     "text": [
      "Warning: When  cdn_resources is 'local' jupyter notebook has issues displaying graphics on chrome/safari. Use cdn_resources='in_line' or cdn_resources='remote' if you have issues viewing graphics in a notebook.\n",
      "query_result.html\n"
     ]
    },
    {
     "data": {
      "text/html": [
       "\n",
       "        <iframe\n",
       "            width=\"100%\"\n",
       "            height=\"600px\"\n",
       "            src=\"query_result.html\"\n",
       "            frameborder=\"0\"\n",
       "            allowfullscreen\n",
       "            \n",
       "        ></iframe>\n",
       "        "
      ],
      "text/plain": [
       "<IPython.lib.display.IFrame at 0x2730b742d80>"
      ]
     },
     "execution_count": 81,
     "metadata": {},
     "output_type": "execute_result"
    }
   ],
   "source": [
    "from pyvis.network import Network\n",
    "\n",
    "# Create a PyVis network visualization for specific queries\n",
    "net = Network(notebook=True)\n",
    "\n",
    "# Create a subgraph containing only the neighbors of \"Napoleon Bonaparte\"\n",
    "subgraph = graph.subgraph([query] + list(graph.neighbors(query)))\n",
    "net.from_nx(subgraph)\n",
    "\n",
    "# Display the graph\n",
    "net.show(\"query_result.html\")\n"
   ]
  },
  {
   "cell_type": "markdown",
   "id": "c973597a-890c-453c-a91a-98671016d392",
   "metadata": {},
   "source": [
    "### Table Representation"
   ]
  },
  {
   "cell_type": "code",
   "execution_count": 57,
   "id": "97614182-f109-4ec5-9d5d-07f6eda945e4",
   "metadata": {},
   "outputs": [],
   "source": [
    "import pandas as pd\n",
    "\n",
    "def query_relationships(graph, query):\n",
    "    \"\"\"\n",
    "    This function takes a graph and a query entity (like 'London') and returns a DataFrame\n",
    "    showing all the relationships involving that entity.\n",
    "    \n",
    "    Parameters:\n",
    "    - graph: The knowledge graph (e.g., a NetworkX graph).\n",
    "    - query: The entity to search for in the graph (string).\n",
    "    \n",
    "    Returns:\n",
    "    - df: A pandas DataFrame showing all relationships involving the query entity.\n",
    "    \"\"\"\n",
    "    data = []  # List to store relationships\n",
    "    \n",
    "    # Check if the query node exists in the graph\n",
    "    if query in graph:\n",
    "        # Iterate over all the neighbors (connected nodes) of the query\n",
    "        for neighbor in graph.neighbors(query):\n",
    "            # Extract the relationship (edge data) between the query and its neighbor\n",
    "            relationship = graph[query][neighbor].get('relationship', 'Unknown')\n",
    "            \n",
    "            # Append the relationship to the data list\n",
    "            data.append([query, neighbor, relationship])\n",
    "    \n",
    "    # Convert the list to a pandas DataFrame\n",
    "    df = pd.DataFrame(data, columns=[\"Entity 1\", \"Entity 2\", \"Relationship\"])\n",
    "    \n",
    "    return df\n"
   ]
  },
  {
   "cell_type": "code",
   "execution_count": 75,
   "id": "f29549a6-5a55-4188-ace5-291b7a6ba673",
   "metadata": {},
   "outputs": [
    {
     "data": {
      "text/html": [
       "<div>\n",
       "<style scoped>\n",
       "    .dataframe tbody tr th:only-of-type {\n",
       "        vertical-align: middle;\n",
       "    }\n",
       "\n",
       "    .dataframe tbody tr th {\n",
       "        vertical-align: top;\n",
       "    }\n",
       "\n",
       "    .dataframe thead th {\n",
       "        text-align: right;\n",
       "    }\n",
       "</style>\n",
       "<table border=\"1\" class=\"dataframe\">\n",
       "  <thead>\n",
       "    <tr style=\"text-align: right;\">\n",
       "      <th></th>\n",
       "      <th>Entity 1</th>\n",
       "      <th>Entity 2</th>\n",
       "      <th>Relationship</th>\n",
       "    </tr>\n",
       "  </thead>\n",
       "  <tbody>\n",
       "    <tr>\n",
       "      <th>0</th>\n",
       "      <td>London</td>\n",
       "      <td>first</td>\n",
       "      <td>be</td>\n",
       "    </tr>\n",
       "    <tr>\n",
       "      <th>1</th>\n",
       "      <td>London</td>\n",
       "      <td>half</td>\n",
       "      <td>report</td>\n",
       "    </tr>\n",
       "    <tr>\n",
       "      <th>2</th>\n",
       "      <td>London</td>\n",
       "      <td>Europe</td>\n",
       "      <td>be</td>\n",
       "    </tr>\n",
       "    <tr>\n",
       "      <th>3</th>\n",
       "      <td>London</td>\n",
       "      <td>Rome</td>\n",
       "      <td>travel</td>\n",
       "    </tr>\n",
       "    <tr>\n",
       "      <th>4</th>\n",
       "      <td>London</td>\n",
       "      <td>Mediterranean</td>\n",
       "      <td>do</td>\n",
       "    </tr>\n",
       "    <tr>\n",
       "      <th>...</th>\n",
       "      <td>...</td>\n",
       "      <td>...</td>\n",
       "      <td>...</td>\n",
       "    </tr>\n",
       "    <tr>\n",
       "      <th>171</th>\n",
       "      <td>London</td>\n",
       "      <td>May</td>\n",
       "      <td>dissolve</td>\n",
       "    </tr>\n",
       "    <tr>\n",
       "      <th>172</th>\n",
       "      <td>London</td>\n",
       "      <td>the month</td>\n",
       "      <td>dissolve</td>\n",
       "    </tr>\n",
       "    <tr>\n",
       "      <th>173</th>\n",
       "      <td>London</td>\n",
       "      <td>Polish</td>\n",
       "      <td>dissolve</td>\n",
       "    </tr>\n",
       "    <tr>\n",
       "      <th>174</th>\n",
       "      <td>London</td>\n",
       "      <td>The Great Exhibition</td>\n",
       "      <td>Exhibition</td>\n",
       "    </tr>\n",
       "    <tr>\n",
       "      <th>175</th>\n",
       "      <td>London</td>\n",
       "      <td>A Conference on Naval Disarmament</td>\n",
       "      <td>meet</td>\n",
       "    </tr>\n",
       "  </tbody>\n",
       "</table>\n",
       "<p>176 rows × 3 columns</p>\n",
       "</div>"
      ],
      "text/plain": [
       "    Entity 1                           Entity 2 Relationship\n",
       "0     London                              first           be\n",
       "1     London                               half       report\n",
       "2     London                             Europe           be\n",
       "3     London                               Rome       travel\n",
       "4     London                      Mediterranean           do\n",
       "..       ...                                ...          ...\n",
       "171   London                                May     dissolve\n",
       "172   London                          the month     dissolve\n",
       "173   London                             Polish     dissolve\n",
       "174   London               The Great Exhibition   Exhibition\n",
       "175   London  A Conference on Naval Disarmament         meet\n",
       "\n",
       "[176 rows x 3 columns]"
      ]
     },
     "execution_count": 75,
     "metadata": {},
     "output_type": "execute_result"
    }
   ],
   "source": [
    "# Example query\n",
    "query = \"London\"\n",
    "\n",
    "# Get all relationships involving 'London'\n",
    "df = query_relationships(graph, query)\n",
    "\n",
    "df\n"
   ]
  },
  {
   "cell_type": "code",
   "execution_count": null,
   "id": "9154fd94-8cf1-43f7-a538-45ec47bf2547",
   "metadata": {},
   "outputs": [],
   "source": []
  }
 ],
 "metadata": {
  "kernelspec": {
   "display_name": "know_graph",
   "language": "python",
   "name": "myenv"
  },
  "language_info": {
   "codemirror_mode": {
    "name": "ipython",
    "version": 3
   },
   "file_extension": ".py",
   "mimetype": "text/x-python",
   "name": "python",
   "nbconvert_exporter": "python",
   "pygments_lexer": "ipython3",
   "version": "3.12.4"
  }
 },
 "nbformat": 4,
 "nbformat_minor": 5
}
